{
 "cells": [
  {
   "cell_type": "markdown",
   "metadata": {},
   "source": [
    "# 基於距離的相似性度量 "
   ]
  },
  {
   "cell_type": "code",
   "execution_count": 13,
   "metadata": {},
   "outputs": [],
   "source": [
    "import numpy as np\n",
    "import pandas as pd\n",
    "from dtaidistance import dtw\n",
    "import matplotlib.pyplot as plt"
   ]
  },
  {
   "cell_type": "markdown",
   "metadata": {},
   "source": [
    "## 歐幾里得距離(Euclidean Distance)"
   ]
  },
  {
   "cell_type": "code",
   "execution_count": 16,
   "metadata": {},
   "outputs": [],
   "source": [
    "def edu_dis(arr1,arr2):\n",
    "    \"\"\"compute euclidean distance matrix between two arrays\"\"\"\n",
    "    dis = np.zeros((arr1.shape[0],arr2.shape[0]))\n",
    "    length = len(arr2)\n",
    "    for i in range(length):\n",
    "        fun = lambda x: np.sqrt(sum(pow(x-arr2[i],2)))\n",
    "        dis[:,i] = np.apply_along_axis(fun,1,arr1)\n",
    "    return dis"
   ]
  },
  {
   "cell_type": "markdown",
   "metadata": {},
   "source": [
    "## 動態時間規整(Dynamic Time Warping)"
   ]
  },
  {
   "cell_type": "code",
   "execution_count": 15,
   "metadata": {},
   "outputs": [],
   "source": [
    "def dtw_dis(arr1,arr2):\n",
    "    \"\"\"計算DTW距離\n",
    "    Return:\n",
    "        dis[i,j]表示arr1的第j列向量與arr2的第i列向量距離\n",
    "        dis[0,0]表示arr1的第0列向量與arr2的第0列向量距離\n",
    "        dis[0,1]表示arr1的第1列向量與arr2的第0列向量距離\n",
    "    \"\"\"\n",
    "    dis = np.zeros((arr1.shape[0],arr2.shape[0]))\n",
    "    length = len(arr2)\n",
    "    for i in range(length):\n",
    "        fun = lambda x: dtw.distance_fast(x,arr2[i])\n",
    "        dis[:,i] = np.apply_along_axis(fun,1,arr1)\n",
    "    return dis"
   ]
  },
  {
   "cell_type": "markdown",
   "metadata": {},
   "source": [
    "## 比較兩種距離度量差異 "
   ]
  },
  {
   "cell_type": "markdown",
   "metadata": {},
   "source": [
    "### y1、y2左右平移關係，y1、y3則是上下平移。"
   ]
  },
  {
   "cell_type": "code",
   "execution_count": 10,
   "metadata": {},
   "outputs": [
    {
     "data": {
      "text/plain": [
       "<matplotlib.legend.Legend at 0x13bd453f548>"
      ]
     },
     "execution_count": 10,
     "metadata": {},
     "output_type": "execute_result"
    },
    {
     "data": {
      "image/png": "[encoded data removed]",
      "text/plain": [
       "<Figure size 432x288 with 1 Axes>"
      ]
     },
     "metadata": {
      "needs_background": "light"
     },
     "output_type": "display_data"
    }
   ],
   "source": [
    "#繪圖\n",
    "x=np.arange(0,np.pi*2,0.1)\n",
    "y1=np.sin(x)\n",
    "y2=np.cos(x)\n",
    "y3 = y1+3\n",
    "plt.xticks(fontsize=20)\n",
    "plt.yticks(fontsize=20)\n",
    "plt.plot(y1,lw=3)\n",
    "plt.plot(y2,lw=3)\n",
    "plt.plot(y3,lw=3)\n",
    "labels = [\"y1\",\"y2\",\"y3\"]\n",
    "plt.legend(labels)"
   ]
  },
  {
   "cell_type": "code",
   "execution_count": 17,
   "metadata": {},
   "outputs": [
    {
     "name": "stdout",
     "output_type": "stream",
     "text": [
      "===============歐幾里得===============\n",
      "           y1         y2         y3\n",
      "y1   0.000000   7.938135  23.811762\n",
      "y2   7.938135   0.000000  25.079147\n",
      "y3  23.811762  25.079147   0.000000\n",
      "===============動態時間規整===============\n",
      "           y1         y2         y3\n",
      "y1   0.000000   3.579437  23.482983\n",
      "y2   3.579437   0.000000  23.157116\n",
      "y3  23.482983  23.157116   0.000000\n"
     ]
    }
   ],
   "source": [
    "x = np.array([y1,y2,y3])\n",
    "y = np.array([y1,y2,y3])\n",
    "edu = pd.DataFrame(edu_dis(x,y),index=[labels],columns=labels)\n",
    "dtw = pd.DataFrame(dtw_dis(x,y),index=[labels],columns=labels)\n",
    "\n",
    "print(\"=\"*15+\"歐幾里得\"+\"=\"*15)\n",
    "print(edu)\n",
    "print(\"=\"*15+\"動態時間規整\"+\"=\"*15)\n",
    "print(dtw)"
   ]
  },
  {
   "cell_type": "markdown",
   "metadata": {},
   "source": [
    "## 小結\n",
    "DTW比較起ED更能匹配時間序列位移的問題。"
   ]
  },
  {
   "cell_type": "code",
   "execution_count": null,
   "metadata": {},
   "outputs": [],
   "source": []
  }
 ],
 "metadata": {
  "kernelspec": {
   "display_name": "Python 3",
   "language": "python",
   "name": "python3"
  },
  "language_info": {
   "codemirror_mode": {
    "name": "ipython",
    "version": 3
   },
   "file_extension": ".py",
   "mimetype": "text/x-python",
   "name": "python",
   "nbconvert_exporter": "python",
   "pygments_lexer": "ipython3",
   "version": "3.7.4"
  }
 },
 "nbformat": 4,
 "nbformat_minor": 2
}
